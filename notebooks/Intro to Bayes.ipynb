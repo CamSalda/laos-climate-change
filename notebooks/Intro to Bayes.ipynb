{
 "cells": [
  {
   "cell_type": "code",
   "execution_count": 1,
   "id": "29108082-75b3-4031-a561-8f4304dcc26e",
   "metadata": {},
   "outputs": [],
   "source": [
    "import numpy as np\n",
    "import pandas as pd\n",
    "import pymc as pm\n",
    "import arviz as az\n",
    "import matplotlib.pyplot as plt"
   ]
  },
  {
   "cell_type": "markdown",
   "id": "514ca989-aeeb-4c94-9f7d-20143d6b791e",
   "metadata": {},
   "source": [
    "# Load Data"
   ]
  },
  {
   "cell_type": "code",
   "execution_count": 2,
   "id": "aba55ee3-cca4-42d8-abd8-5fff1dc38037",
   "metadata": {},
   "outputs": [],
   "source": [
    "df = pd.read_csv(pm.get_data(\"babies.csv\"))"
   ]
  },
  {
   "cell_type": "code",
   "execution_count": 4,
   "id": "4500c80a-5674-4565-af64-21643a74de94",
   "metadata": {},
   "outputs": [
    {
     "data": {
      "text/plain": [
       "<Axes: xlabel='Month', ylabel='Length'>"
      ]
     },
     "execution_count": 4,
     "metadata": {},
     "output_type": "execute_result"
    },
    {
     "data": {
      "image/png": "[encoded data removed]",
      "text/plain": [
       "<Figure size 640x480 with 1 Axes>"
      ]
     },
     "metadata": {},
     "output_type": "display_data"
    }
   ],
   "source": [
    "df.plot.scatter(x='Month', y='Length')"
   ]
  },
  {
   "cell_type": "code",
   "execution_count": 9,
   "id": "6e66639f-b21e-4086-bf5e-c640b81b0c7b",
   "metadata": {},
   "outputs": [
    {
     "data": {
      "text/plain": [
       "{'mu': 50.01626553970974, 'sigma': 2.55101545567434}"
      ]
     },
     "execution_count": 9,
     "metadata": {},
     "output_type": "execute_result"
    }
   ],
   "source": [
    "pm.find_constrained_prior(pm.Normal, lower=45, upper=55, mass=0.95, \n",
    "                          init_guess={'mu':50, 'sigma':10})"
   ]
  },
  {
   "cell_type": "code",
   "execution_count": 14,
   "id": "f6324b6a-d006-4407-b439-f15c231628f4",
   "metadata": {},
   "outputs": [
    {
     "name": "stderr",
     "output_type": "stream",
     "text": [
      "/Users/jessegrabowski/mambaforge/envs/cge-dev/lib/python3.11/site-packages/pymc/data.py:433: UserWarning: The `mutable` kwarg was not specified. Before v4.1.0 it defaulted to `pm.Data(mutable=True)`, which is equivalent to using `pm.MutableData()`. In v4.1.0 the default changed to `pm.Data(mutable=False)`, equivalent to `pm.ConstantData`. Use `pm.ConstantData`/`pm.MutableData` or pass `pm.Data(..., mutable=False/True)` to avoid this warning.\n",
      "  warnings.warn(\n"
     ]
    }
   ],
   "source": [
    "with pm.Model() as m:\n",
    "    month = pm.Data('month', df.Month)\n",
    "    length = pm.Data('length', df.Length)\n",
    "\n",
    "    intercept = pm.Normal('intercept', mu=0, sigma=100)\n",
    "    slope = pm.Normal('slope', mu=0, sigma=10)\n",
    "    mu = pm.Deterministic('mu', intercept + slope * month)\n",
    "    sigma = pm.Exponential('sigma', lam=1)\n",
    "\n",
    "    length_hat = pm.Normal('length_hat', mu=mu, sigma=sigma, observed=length)"
   ]
  },
  {
   "cell_type": "code",
   "execution_count": 15,
   "id": "43efab82-d9b9-427a-8c71-7ec372a2115c",
   "metadata": {},
   "outputs": [
    {
     "data": {
      "image/svg+xml": [
       "<?xml version=\"1.0\" encoding=\"UTF-8\" standalone=\"no\"?>\n",
       "<!DOCTYPE svg PUBLIC \"-//W3C//DTD SVG 1.1//EN\"\n",
       " \"http://www.w3.org/Graphics/SVG/1.1/DTD/svg11.dtd\">\n",
       "<!-- Generated by graphviz version 9.0.0 (0)\n",
       " -->\n",
       "<!-- Pages: 1 -->\n",
       "<svg width=\"334pt\" height=\"462pt\"\n",
       " viewBox=\"0.00 0.00 334.01 462.04\" xmlns=\"http://www.w3.org/2000/svg\" xmlns:xlink=\"http://www.w3.org/1999/xlink\">\n",
       "<g id=\"graph0\" class=\"graph\" transform=\"scale(1 1) rotate(0) translate(4 458.04)\">\n",
       "<polygon fill=\"white\" stroke=\"none\" points=\"-4,4 -4,-458.04 330.01,-458.04 330.01,4 -4,4\"/>\n",
       "<g id=\"clust1\" class=\"cluster\">\n",
       "<title>cluster800</title>\n",
       "<path fill=\"none\" stroke=\"black\" d=\"M20,-8C20,-8 116,-8 116,-8 122,-8 128,-14 128,-20 128,-20 128,-434.04 128,-434.04 128,-440.04 122,-446.04 116,-446.04 116,-446.04 20,-446.04 20,-446.04 14,-446.04 8,-440.04 8,-434.04 8,-434.04 8,-20 8,-20 8,-14 14,-8 20,-8\"/>\n",
       "<text text-anchor=\"middle\" x=\"109.88\" y=\"-15.2\" font-family=\"Times,serif\" font-size=\"14.00\">800</text>\n",
       "</g>\n",
       "<!-- length_hat -->\n",
       "<g id=\"node1\" class=\"node\">\n",
       "<title>length_hat</title>\n",
       "<ellipse fill=\"lightgrey\" stroke=\"black\" cx=\"68\" cy=\"-174.66\" rx=\"51.62\" ry=\"40.66\"/>\n",
       "<text text-anchor=\"middle\" x=\"68\" y=\"-186.11\" font-family=\"Times,serif\" font-size=\"14.00\">length_hat</text>\n",
       "<text text-anchor=\"middle\" x=\"68\" y=\"-169.61\" font-family=\"Times,serif\" font-size=\"14.00\">~</text>\n",
       "<text text-anchor=\"middle\" x=\"68\" y=\"-153.11\" font-family=\"Times,serif\" font-size=\"14.00\">Normal</text>\n",
       "</g>\n",
       "<!-- length -->\n",
       "<g id=\"node4\" class=\"node\">\n",
       "<title>length</title>\n",
       "<path fill=\"lightgrey\" stroke=\"black\" d=\"M100.75,-98C100.75,-98 35.25,-98 35.25,-98 29.25,-98 23.25,-92 23.25,-86 23.25,-86 23.25,-52.5 23.25,-52.5 23.25,-46.5 29.25,-40.5 35.25,-40.5 35.25,-40.5 100.75,-40.5 100.75,-40.5 106.75,-40.5 112.75,-46.5 112.75,-52.5 112.75,-52.5 112.75,-86 112.75,-86 112.75,-92 106.75,-98 100.75,-98\"/>\n",
       "<text text-anchor=\"middle\" x=\"68\" y=\"-80.7\" font-family=\"Times,serif\" font-size=\"14.00\">length</text>\n",
       "<text text-anchor=\"middle\" x=\"68\" y=\"-64.2\" font-family=\"Times,serif\" font-size=\"14.00\">~</text>\n",
       "<text text-anchor=\"middle\" x=\"68\" y=\"-47.7\" font-family=\"Times,serif\" font-size=\"14.00\">ConstantData</text>\n",
       "</g>\n",
       "<!-- length_hat&#45;&gt;length -->\n",
       "<g id=\"edge1\" class=\"edge\">\n",
       "<title>length_hat&#45;&gt;length</title>\n",
       "<path fill=\"none\" stroke=\"black\" d=\"M68,-133.68C68,-125.83 68,-117.6 68,-109.76\"/>\n",
       "<polygon fill=\"black\" stroke=\"black\" points=\"71.5,-109.79 68,-99.79 64.5,-109.79 71.5,-109.79\"/>\n",
       "</g>\n",
       "<!-- month -->\n",
       "<g id=\"node2\" class=\"node\">\n",
       "<title>month</title>\n",
       "<path fill=\"lightgrey\" stroke=\"black\" d=\"M105.75,-438.04C105.75,-438.04 40.25,-438.04 40.25,-438.04 34.25,-438.04 28.25,-432.04 28.25,-426.04 28.25,-426.04 28.25,-392.54 28.25,-392.54 28.25,-386.54 34.25,-380.54 40.25,-380.54 40.25,-380.54 105.75,-380.54 105.75,-380.54 111.75,-380.54 117.75,-386.54 117.75,-392.54 117.75,-392.54 117.75,-426.04 117.75,-426.04 117.75,-432.04 111.75,-438.04 105.75,-438.04\"/>\n",
       "<text text-anchor=\"middle\" x=\"73\" y=\"-420.74\" font-family=\"Times,serif\" font-size=\"14.00\">month</text>\n",
       "<text text-anchor=\"middle\" x=\"73\" y=\"-404.24\" font-family=\"Times,serif\" font-size=\"14.00\">~</text>\n",
       "<text text-anchor=\"middle\" x=\"73\" y=\"-387.74\" font-family=\"Times,serif\" font-size=\"14.00\">ConstantData</text>\n",
       "</g>\n",
       "<!-- mu -->\n",
       "<g id=\"node3\" class=\"node\">\n",
       "<title>mu</title>\n",
       "<polygon fill=\"none\" stroke=\"black\" points=\"118.12,-320.73 27.88,-320.73 27.88,-263.23 118.12,-263.23 118.12,-320.73\"/>\n",
       "<text text-anchor=\"middle\" x=\"73\" y=\"-303.43\" font-family=\"Times,serif\" font-size=\"14.00\">mu</text>\n",
       "<text text-anchor=\"middle\" x=\"73\" y=\"-286.93\" font-family=\"Times,serif\" font-size=\"14.00\">~</text>\n",
       "<text text-anchor=\"middle\" x=\"73\" y=\"-270.43\" font-family=\"Times,serif\" font-size=\"14.00\">Deterministic</text>\n",
       "</g>\n",
       "<!-- month&#45;&gt;mu -->\n",
       "<g id=\"edge4\" class=\"edge\">\n",
       "<title>month&#45;&gt;mu</title>\n",
       "<path fill=\"none\" stroke=\"black\" d=\"M73,-380.08C73,-365.74 73,-348.07 73,-332.4\"/>\n",
       "<polygon fill=\"black\" stroke=\"black\" points=\"76.5,-332.41 73,-322.41 69.5,-332.41 76.5,-332.41\"/>\n",
       "</g>\n",
       "<!-- mu&#45;&gt;length_hat -->\n",
       "<g id=\"edge6\" class=\"edge\">\n",
       "<title>mu&#45;&gt;length_hat</title>\n",
       "<path fill=\"none\" stroke=\"black\" d=\"M71.78,-262.77C71.31,-251.94 70.76,-239.23 70.22,-226.91\"/>\n",
       "<polygon fill=\"black\" stroke=\"black\" points=\"73.73,-227.12 69.8,-217.28 66.74,-227.43 73.73,-227.12\"/>\n",
       "</g>\n",
       "<!-- intercept -->\n",
       "<g id=\"node5\" class=\"node\">\n",
       "<title>intercept</title>\n",
       "<ellipse fill=\"none\" stroke=\"black\" cx=\"181\" cy=\"-409.29\" rx=\"44.72\" ry=\"40.66\"/>\n",
       "<text text-anchor=\"middle\" x=\"181\" y=\"-420.74\" font-family=\"Times,serif\" font-size=\"14.00\">intercept</text>\n",
       "<text text-anchor=\"middle\" x=\"181\" y=\"-404.24\" font-family=\"Times,serif\" font-size=\"14.00\">~</text>\n",
       "<text text-anchor=\"middle\" x=\"181\" y=\"-387.74\" font-family=\"Times,serif\" font-size=\"14.00\">Normal</text>\n",
       "</g>\n",
       "<!-- intercept&#45;&gt;mu -->\n",
       "<g id=\"edge3\" class=\"edge\">\n",
       "<title>intercept&#45;&gt;mu</title>\n",
       "<path fill=\"none\" stroke=\"black\" d=\"M152.34,-377.69C138.42,-362.83 121.6,-344.86 107.03,-329.31\"/>\n",
       "<polygon fill=\"black\" stroke=\"black\" points=\"109.62,-326.96 100.23,-322.06 104.52,-331.75 109.62,-326.96\"/>\n",
       "</g>\n",
       "<!-- sigma -->\n",
       "<g id=\"node6\" class=\"node\">\n",
       "<title>sigma</title>\n",
       "<ellipse fill=\"none\" stroke=\"black\" cx=\"194\" cy=\"-291.98\" rx=\"57.45\" ry=\"40.66\"/>\n",
       "<text text-anchor=\"middle\" x=\"194\" y=\"-303.43\" font-family=\"Times,serif\" font-size=\"14.00\">sigma</text>\n",
       "<text text-anchor=\"middle\" x=\"194\" y=\"-286.93\" font-family=\"Times,serif\" font-size=\"14.00\">~</text>\n",
       "<text text-anchor=\"middle\" x=\"194\" y=\"-270.43\" font-family=\"Times,serif\" font-size=\"14.00\">Exponential</text>\n",
       "</g>\n",
       "<!-- sigma&#45;&gt;length_hat -->\n",
       "<g id=\"edge5\" class=\"edge\">\n",
       "<title>sigma&#45;&gt;length_hat</title>\n",
       "<path fill=\"none\" stroke=\"black\" d=\"M159.24,-259.16C143.85,-245.08 125.64,-228.41 109.54,-213.68\"/>\n",
       "<polygon fill=\"black\" stroke=\"black\" points=\"112.2,-211.37 102.46,-207.2 107.48,-216.53 112.2,-211.37\"/>\n",
       "</g>\n",
       "<!-- slope -->\n",
       "<g id=\"node7\" class=\"node\">\n",
       "<title>slope</title>\n",
       "<ellipse fill=\"none\" stroke=\"black\" cx=\"285\" cy=\"-409.29\" rx=\"41.01\" ry=\"40.66\"/>\n",
       "<text text-anchor=\"middle\" x=\"285\" y=\"-420.74\" font-family=\"Times,serif\" font-size=\"14.00\">slope</text>\n",
       "<text text-anchor=\"middle\" x=\"285\" y=\"-404.24\" font-family=\"Times,serif\" font-size=\"14.00\">~</text>\n",
       "<text text-anchor=\"middle\" x=\"285\" y=\"-387.74\" font-family=\"Times,serif\" font-size=\"14.00\">Normal</text>\n",
       "</g>\n",
       "<!-- slope&#45;&gt;mu -->\n",
       "<g id=\"edge2\" class=\"edge\">\n",
       "<title>slope&#45;&gt;mu</title>\n",
       "<path fill=\"none\" stroke=\"black\" d=\"M254.69,-381.57C248.45,-376.85 241.72,-372.28 235,-368.63 190.91,-344.69 172.63,-355.57 128,-332.63 124.75,-330.97 121.49,-329.12 118.25,-327.17\"/>\n",
       "<polygon fill=\"black\" stroke=\"black\" points=\"120.28,-324.31 109.97,-321.85 116.5,-330.2 120.28,-324.31\"/>\n",
       "</g>\n",
       "</g>\n",
       "</svg>\n"
      ],
      "text/plain": [
       "<graphviz.graphs.Digraph at 0x28f4843d0>"
      ]
     },
     "execution_count": 15,
     "metadata": {},
     "output_type": "execute_result"
    }
   ],
   "source": [
    "pm.model_to_graphviz(m)"
   ]
  },
  {
   "cell_type": "code",
   "execution_count": 13,
   "id": "a53b147a-d173-4d42-96b0-8603fa3dae17",
   "metadata": {},
   "outputs": [
    {
     "data": {
      "image/svg+xml": [
       "<?xml version=\"1.0\" encoding=\"UTF-8\" standalone=\"no\"?>\n",
       "<!DOCTYPE svg PUBLIC \"-//W3C//DTD SVG 1.1//EN\"\n",
       " \"http://www.w3.org/Graphics/SVG/1.1/DTD/svg11.dtd\">\n",
       "<!-- Generated by graphviz version 9.0.0 (0)\n",
       " -->\n",
       "<!-- Pages: 1 -->\n",
       "<svg width=\"466pt\" height=\"345pt\"\n",
       " viewBox=\"0.00 0.00 466.01 344.73\" xmlns=\"http://www.w3.org/2000/svg\" xmlns:xlink=\"http://www.w3.org/1999/xlink\">\n",
       "<g id=\"graph0\" class=\"graph\" transform=\"scale(1 1) rotate(0) translate(4 340.73)\">\n",
       "<polygon fill=\"white\" stroke=\"none\" points=\"-4,4 -4,-340.73 462.01,-340.73 462.01,4 -4,4\"/>\n",
       "<g id=\"clust1\" class=\"cluster\">\n",
       "<title>cluster800</title>\n",
       "<path fill=\"none\" stroke=\"black\" d=\"M20,-8C20,-8 116,-8 116,-8 122,-8 128,-14 128,-20 128,-20 128,-316.73 128,-316.73 128,-322.73 122,-328.73 116,-328.73 116,-328.73 20,-328.73 20,-328.73 14,-328.73 8,-322.73 8,-316.73 8,-316.73 8,-20 8,-20 8,-14 14,-8 20,-8\"/>\n",
       "<text text-anchor=\"middle\" x=\"109.88\" y=\"-15.2\" font-family=\"Times,serif\" font-size=\"14.00\">800</text>\n",
       "</g>\n",
       "<!-- length_hat -->\n",
       "<g id=\"node1\" class=\"node\">\n",
       "<title>length_hat</title>\n",
       "<ellipse fill=\"lightgrey\" stroke=\"black\" cx=\"68\" cy=\"-174.66\" rx=\"51.62\" ry=\"40.66\"/>\n",
       "<text text-anchor=\"middle\" x=\"68\" y=\"-186.11\" font-family=\"Times,serif\" font-size=\"14.00\">length_hat</text>\n",
       "<text text-anchor=\"middle\" x=\"68\" y=\"-169.61\" font-family=\"Times,serif\" font-size=\"14.00\">~</text>\n",
       "<text text-anchor=\"middle\" x=\"68\" y=\"-153.11\" font-family=\"Times,serif\" font-size=\"14.00\">Normal</text>\n",
       "</g>\n",
       "<!-- length -->\n",
       "<g id=\"node3\" class=\"node\">\n",
       "<title>length</title>\n",
       "<path fill=\"lightgrey\" stroke=\"black\" d=\"M100.75,-98C100.75,-98 35.25,-98 35.25,-98 29.25,-98 23.25,-92 23.25,-86 23.25,-86 23.25,-52.5 23.25,-52.5 23.25,-46.5 29.25,-40.5 35.25,-40.5 35.25,-40.5 100.75,-40.5 100.75,-40.5 106.75,-40.5 112.75,-46.5 112.75,-52.5 112.75,-52.5 112.75,-86 112.75,-86 112.75,-92 106.75,-98 100.75,-98\"/>\n",
       "<text text-anchor=\"middle\" x=\"68\" y=\"-80.7\" font-family=\"Times,serif\" font-size=\"14.00\">length</text>\n",
       "<text text-anchor=\"middle\" x=\"68\" y=\"-64.2\" font-family=\"Times,serif\" font-size=\"14.00\">~</text>\n",
       "<text text-anchor=\"middle\" x=\"68\" y=\"-47.7\" font-family=\"Times,serif\" font-size=\"14.00\">ConstantData</text>\n",
       "</g>\n",
       "<!-- length_hat&#45;&gt;length -->\n",
       "<g id=\"edge1\" class=\"edge\">\n",
       "<title>length_hat&#45;&gt;length</title>\n",
       "<path fill=\"none\" stroke=\"black\" d=\"M68,-133.68C68,-125.83 68,-117.6 68,-109.76\"/>\n",
       "<polygon fill=\"black\" stroke=\"black\" points=\"71.5,-109.79 68,-99.79 64.5,-109.79 71.5,-109.79\"/>\n",
       "</g>\n",
       "<!-- month -->\n",
       "<g id=\"node2\" class=\"node\">\n",
       "<title>month</title>\n",
       "<path fill=\"lightgrey\" stroke=\"black\" d=\"M100.75,-320.73C100.75,-320.73 35.25,-320.73 35.25,-320.73 29.25,-320.73 23.25,-314.73 23.25,-308.73 23.25,-308.73 23.25,-275.23 23.25,-275.23 23.25,-269.23 29.25,-263.23 35.25,-263.23 35.25,-263.23 100.75,-263.23 100.75,-263.23 106.75,-263.23 112.75,-269.23 112.75,-275.23 112.75,-275.23 112.75,-308.73 112.75,-308.73 112.75,-314.73 106.75,-320.73 100.75,-320.73\"/>\n",
       "<text text-anchor=\"middle\" x=\"68\" y=\"-303.43\" font-family=\"Times,serif\" font-size=\"14.00\">month</text>\n",
       "<text text-anchor=\"middle\" x=\"68\" y=\"-286.93\" font-family=\"Times,serif\" font-size=\"14.00\">~</text>\n",
       "<text text-anchor=\"middle\" x=\"68\" y=\"-270.43\" font-family=\"Times,serif\" font-size=\"14.00\">ConstantData</text>\n",
       "</g>\n",
       "<!-- month&#45;&gt;length_hat -->\n",
       "<g id=\"edge3\" class=\"edge\">\n",
       "<title>month&#45;&gt;length_hat</title>\n",
       "<path fill=\"none\" stroke=\"black\" d=\"M68,-262.77C68,-251.94 68,-239.23 68,-226.91\"/>\n",
       "<polygon fill=\"black\" stroke=\"black\" points=\"71.5,-227.28 68,-217.28 64.5,-227.28 71.5,-227.28\"/>\n",
       "</g>\n",
       "<!-- intercept -->\n",
       "<g id=\"node4\" class=\"node\">\n",
       "<title>intercept</title>\n",
       "<ellipse fill=\"none\" stroke=\"black\" cx=\"181\" cy=\"-291.98\" rx=\"44.72\" ry=\"40.66\"/>\n",
       "<text text-anchor=\"middle\" x=\"181\" y=\"-303.43\" font-family=\"Times,serif\" font-size=\"14.00\">intercept</text>\n",
       "<text text-anchor=\"middle\" x=\"181\" y=\"-286.93\" font-family=\"Times,serif\" font-size=\"14.00\">~</text>\n",
       "<text text-anchor=\"middle\" x=\"181\" y=\"-270.43\" font-family=\"Times,serif\" font-size=\"14.00\">Normal</text>\n",
       "</g>\n",
       "<!-- intercept&#45;&gt;length_hat -->\n",
       "<g id=\"edge2\" class=\"edge\">\n",
       "<title>intercept&#45;&gt;length_hat</title>\n",
       "<path fill=\"none\" stroke=\"black\" d=\"M151.61,-260.98C138.03,-247.13 121.72,-230.48 107.13,-215.59\"/>\n",
       "<polygon fill=\"black\" stroke=\"black\" points=\"109.78,-213.3 100.28,-208.6 104.78,-218.2 109.78,-213.3\"/>\n",
       "</g>\n",
       "<!-- sigma -->\n",
       "<g id=\"node5\" class=\"node\">\n",
       "<title>sigma</title>\n",
       "<ellipse fill=\"none\" stroke=\"black\" cx=\"301\" cy=\"-291.98\" rx=\"57.45\" ry=\"40.66\"/>\n",
       "<text text-anchor=\"middle\" x=\"301\" y=\"-303.43\" font-family=\"Times,serif\" font-size=\"14.00\">sigma</text>\n",
       "<text text-anchor=\"middle\" x=\"301\" y=\"-286.93\" font-family=\"Times,serif\" font-size=\"14.00\">~</text>\n",
       "<text text-anchor=\"middle\" x=\"301\" y=\"-270.43\" font-family=\"Times,serif\" font-size=\"14.00\">Exponential</text>\n",
       "</g>\n",
       "<!-- sigma&#45;&gt;length_hat -->\n",
       "<g id=\"edge4\" class=\"edge\">\n",
       "<title>sigma&#45;&gt;length_hat</title>\n",
       "<path fill=\"none\" stroke=\"black\" d=\"M258.45,-264.43C250.74,-259.9 242.69,-255.35 235,-251.32 198.63,-232.23 156.5,-213.17 123.65,-198.95\"/>\n",
       "<polygon fill=\"black\" stroke=\"black\" points=\"125.29,-195.84 114.72,-195.11 122.52,-202.27 125.29,-195.84\"/>\n",
       "</g>\n",
       "<!-- slope -->\n",
       "<g id=\"node6\" class=\"node\">\n",
       "<title>slope</title>\n",
       "<ellipse fill=\"none\" stroke=\"black\" cx=\"417\" cy=\"-291.98\" rx=\"41.01\" ry=\"40.66\"/>\n",
       "<text text-anchor=\"middle\" x=\"417\" y=\"-303.43\" font-family=\"Times,serif\" font-size=\"14.00\">slope</text>\n",
       "<text text-anchor=\"middle\" x=\"417\" y=\"-286.93\" font-family=\"Times,serif\" font-size=\"14.00\">~</text>\n",
       "<text text-anchor=\"middle\" x=\"417\" y=\"-270.43\" font-family=\"Times,serif\" font-size=\"14.00\">Normal</text>\n",
       "</g>\n",
       "<!-- slope&#45;&gt;length_hat -->\n",
       "<g id=\"edge5\" class=\"edge\">\n",
       "<title>slope&#45;&gt;length_hat</title>\n",
       "<path fill=\"none\" stroke=\"black\" d=\"M386.91,-263.83C380.64,-259.15 373.85,-254.71 367,-251.32 290.3,-213.39 192.84,-193.33 130.44,-183.61\"/>\n",
       "<polygon fill=\"black\" stroke=\"black\" points=\"131.11,-180.18 120.7,-182.14 130.07,-187.1 131.11,-180.18\"/>\n",
       "</g>\n",
       "</g>\n",
       "</svg>\n"
      ],
      "text/plain": [
       "<graphviz.graphs.Digraph at 0x28fa9f1d0>"
      ]
     },
     "execution_count": 13,
     "metadata": {},
     "output_type": "execute_result"
    }
   ],
   "source": [
    "pm.model_to_graphviz(m)"
   ]
  },
  {
   "cell_type": "code",
   "execution_count": null,
   "id": "f5fe768d-e5f7-4fc4-bc82-c2234907dd89",
   "metadata": {},
   "outputs": [],
   "source": []
  }
 ],
 "metadata": {
  "kernelspec": {
   "display_name": "Python 3 (ipykernel)",
   "language": "python",
   "name": "python3"
  },
  "language_info": {
   "codemirror_mode": {
    "name": "ipython",
    "version": 3
   },
   "file_extension": ".py",
   "mimetype": "text/x-python",
   "name": "python",
   "nbconvert_exporter": "python",
   "pygments_lexer": "ipython3",
   "version": "3.11.6"
  }
 },
 "nbformat": 4,
 "nbformat_minor": 5
}
